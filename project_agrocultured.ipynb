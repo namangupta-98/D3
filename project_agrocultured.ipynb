{
 "cells": [
  {
   "cell_type": "code",
   "execution_count": 4,
   "metadata": {},
   "outputs": [
    {
     "name": "stderr",
     "output_type": "stream",
     "text": [
      "Using TensorFlow backend.\n"
     ]
    }
   ],
   "source": [
    "import numpy as np\n",
    "import pickle\n",
    "import cv2\n",
    "from os import listdir\n",
    "from sklearn.preprocessing import LabelBinarizer\n",
    "from keras.models import Sequential\n",
    "from keras.layers.normalization import BatchNormalization\n",
    "from keras.layers.convolutional import Conv2D\n",
    "from keras.layers.convolutional import MaxPooling2D \n",
    "from keras.layers.core import Activation, Flatten, Dropout, Dense\n",
    "from keras import backend as K\n",
    "from keras.preprocessing.image import ImageDataGenerator\n",
    "from keras.optimizers import Adam\n",
    "from keras.preprocessing import image\n",
    "from keras.preprocessing.image import img_to_array\n",
    "from sklearn.preprocessing import MultiLabelBinarizer\n",
    "from sklearn.model_selection import train_test_split\n",
    "import matplotlib.pyplot as plt"
   ]
  },
  {
   "cell_type": "code",
   "execution_count": 2,
   "metadata": {},
   "outputs": [],
   "source": [
    "EPOCHS = 25\n",
    "INIT_LR = 1e-3\n",
    "BS = 32\n",
    "default_image_size = tuple((256, 256))\n",
    "image_size = 0\n",
    "directory_root = '/root/Desktop/plants'\n",
    "width=256\n",
    "height=256\n",
    "depth=3"
   ]
  },
  {
   "cell_type": "code",
   "execution_count": 5,
   "metadata": {},
   "outputs": [],
   "source": [
    "def convert_image_to_array(image_dir):\n",
    "    try:\n",
    "        image = cv2.imread(image_dir)\n",
    "        if image is not None :\n",
    "            image = cv2.resize(image, default_image_size)   \n",
    "            return img_to_array(image)\n",
    "        else :\n",
    "            return np.array([])\n",
    "    except Exception as e:\n",
    "        print(f\"Error : {e}\")\n",
    "        return None"
   ]
  },
  {
   "cell_type": "code",
   "execution_count": 4,
   "metadata": {},
   "outputs": [
    {
     "name": "stdout",
     "output_type": "stream",
     "text": [
      "[INFO] Loading images ...\n",
      "[INFO] Processing Tomato___Leaf_Mold ...\n",
      "[INFO] Processing Tomato___Late_blight ...\n",
      "[INFO] Processing Tomato___healthy ...\n",
      "[INFO] Processing Tomato___Early_blight ...\n",
      "[INFO] Processing Tomato___Bacterial_spot ...\n",
      "[INFO] Processing Potato___Late_blight ...\n",
      "[INFO] Processing Potato___healthy ...\n",
      "[INFO] Processing Potato___Early_blight ...\n",
      "[INFO] Processing Orange___Haunglongbing_(Citrus_greening) ...\n",
      "[INFO] Processing Corn_(maize)___Northern_Leaf_Blight ...\n",
      "[INFO] Processing Corn_(maize)___healthy ...\n",
      "[INFO] Processing Corn_(maize)___Common_rust_ ...\n",
      "[INFO] Processing barley_yellow_disease ...\n",
      "[INFO] Image loading completed\n"
     ]
    }
   ],
   "source": [
    "image_list, label_list = [], []\n",
    "try:\n",
    "    print(\"[INFO] Loading images ...\")\n",
    "    root_dir = listdir(directory_root)\n",
    "    for directory in root_dir :\n",
    "        # remove .DS_Store from list\n",
    "        if directory == \".DS_Store\" :\n",
    "            root_dir.remove(directory)\n",
    "\n",
    "    for plant_disease_folder in root_dir:\n",
    "        print(f\"[INFO] Processing {plant_disease_folder} ...\")\n",
    "        plant_disease_image_list = listdir(f\"{directory_root}/{plant_disease_folder}/\")\n",
    "                \n",
    "        for single_plant_disease_image in plant_disease_image_list :\n",
    "            if single_plant_disease_image == \".DS_Store\" :\n",
    "                plant_disease_image_list.remove(single_plant_disease_image)\n",
    "\n",
    "        for image in plant_disease_image_list[:100]:\n",
    "            image_directory = f\"{directory_root}/{plant_disease_folder}/{image}\"\n",
    "            if image_directory.endswith(\".jpg\") == True or image_directory.endswith(\".JPG\") == True:\n",
    "                image_list.append(convert_image_to_array(image_directory))\n",
    "                label_list.append(plant_disease_folder)\n",
    "    print(\"[INFO] Image loading completed\")  \n",
    "except Exception as e:\n",
    "    print(f\"Error : {e}\")"
   ]
  },
  {
   "cell_type": "code",
   "execution_count": 5,
   "metadata": {},
   "outputs": [],
   "source": [
    "image_size = len(image_list)"
   ]
  },
  {
   "cell_type": "code",
   "execution_count": 6,
   "metadata": {},
   "outputs": [],
   "source": [
    "label_binarizer = LabelBinarizer()\n",
    "image_labels = label_binarizer.fit_transform(label_list)\n",
    "pickle.dump(label_binarizer,open('label_transform.pkl', 'wb'))\n",
    "n_classes = len(label_binarizer.classes_)"
   ]
  },
  {
   "cell_type": "code",
   "execution_count": 7,
   "metadata": {},
   "outputs": [
    {
     "name": "stdout",
     "output_type": "stream",
     "text": [
      "['Corn_(maize)___Common_rust_' 'Corn_(maize)___Northern_Leaf_Blight'\n",
      " 'Corn_(maize)___healthy' 'Orange___Haunglongbing_(Citrus_greening)'\n",
      " 'Potato___Early_blight' 'Potato___Late_blight' 'Potato___healthy'\n",
      " 'Tomato___Bacterial_spot' 'Tomato___Early_blight' 'Tomato___Late_blight'\n",
      " 'Tomato___Leaf_Mold' 'Tomato___healthy' 'barley_yellow_disease']\n"
     ]
    }
   ],
   "source": [
    "print(label_binarizer.classes_)"
   ]
  },
  {
   "cell_type": "code",
   "execution_count": 8,
   "metadata": {},
   "outputs": [],
   "source": [
    "np_image_list = np.array(image_list, dtype=np.float16) / 225.0\n"
   ]
  },
  {
   "cell_type": "code",
   "execution_count": 9,
   "metadata": {},
   "outputs": [
    {
     "name": "stdout",
     "output_type": "stream",
     "text": [
      "[INFO] Spliting data to train, test\n"
     ]
    }
   ],
   "source": [
    "print(\"[INFO] Spliting data to train, test\")\n",
    "x_train, x_test, y_train, y_test = train_test_split(np_image_list, image_labels, test_size=0.2, random_state = 42) "
   ]
  },
  {
   "cell_type": "code",
   "execution_count": 10,
   "metadata": {},
   "outputs": [],
   "source": [
    "aug = ImageDataGenerator(\n",
    "    rotation_range=25, width_shift_range=0.1,\n",
    "    height_shift_range=0.1, shear_range=0.2, \n",
    "    zoom_range=0.2,horizontal_flip=True, \n",
    "    fill_mode=\"nearest\")"
   ]
  },
  {
   "cell_type": "code",
   "execution_count": 11,
   "metadata": {},
   "outputs": [
    {
     "name": "stdout",
     "output_type": "stream",
     "text": [
      "WARNING:tensorflow:From /usr/local/lib/python3.6/site-packages/tensorflow/python/framework/op_def_library.py:263: colocate_with (from tensorflow.python.framework.ops) is deprecated and will be removed in a future version.\n",
      "Instructions for updating:\n",
      "Colocations handled automatically by placer.\n",
      "WARNING:tensorflow:From /usr/local/lib/python3.6/site-packages/keras/backend/tensorflow_backend.py:3445: calling dropout (from tensorflow.python.ops.nn_ops) with keep_prob is deprecated and will be removed in a future version.\n",
      "Instructions for updating:\n",
      "Please use `rate` instead of `keep_prob`. Rate should be set to `rate = 1 - keep_prob`.\n"
     ]
    }
   ],
   "source": [
    "model = Sequential()\n",
    "inputShape = (height, width, depth)\n",
    "chanDim = -1\n",
    "if K.image_data_format() == \"channels_first\":\n",
    "    inputShape = (depth, height, width)\n",
    "    chanDim = 1\n",
    "model.add(Conv2D(32, (3, 3), padding=\"same\",input_shape=inputShape))\n",
    "model.add(Activation(\"relu\"))\n",
    "model.add(BatchNormalization(axis=chanDim))\n",
    "model.add(MaxPooling2D(pool_size=(3, 3)))\n",
    "model.add(Dropout(0.25))\n",
    "model.add(Conv2D(64, (3, 3), padding=\"same\"))\n",
    "model.add(Activation(\"relu\"))\n",
    "model.add(BatchNormalization(axis=chanDim))\n",
    "model.add(Conv2D(64, (3, 3), padding=\"same\"))\n",
    "model.add(Activation(\"relu\"))\n",
    "model.add(BatchNormalization(axis=chanDim))\n",
    "model.add(MaxPooling2D(pool_size=(2, 2)))\n",
    "model.add(Dropout(0.25))\n",
    "model.add(Conv2D(128, (3, 3), padding=\"same\"))\n",
    "model.add(Activation(\"relu\"))\n",
    "model.add(BatchNormalization(axis=chanDim))\n",
    "model.add(Conv2D(128, (3, 3), padding=\"same\"))\n",
    "model.add(Activation(\"relu\"))\n",
    "model.add(BatchNormalization(axis=chanDim))\n",
    "model.add(MaxPooling2D(pool_size=(2, 2)))\n",
    "model.add(Dropout(0.25))\n",
    "model.add(Flatten())\n",
    "model.add(Dense(1024))\n",
    "model.add(Activation(\"relu\"))\n",
    "model.add(BatchNormalization())\n",
    "model.add(Dropout(0.5))\n",
    "model.add(Dense(n_classes))\n",
    "model.add(Activation(\"softmax\"))"
   ]
  },
  {
   "cell_type": "code",
   "execution_count": 12,
   "metadata": {},
   "outputs": [
    {
     "name": "stdout",
     "output_type": "stream",
     "text": [
      "_________________________________________________________________\n",
      "Layer (type)                 Output Shape              Param #   \n",
      "=================================================================\n",
      "conv2d_1 (Conv2D)            (None, 256, 256, 32)      896       \n",
      "_________________________________________________________________\n",
      "activation_1 (Activation)    (None, 256, 256, 32)      0         \n",
      "_________________________________________________________________\n",
      "batch_normalization_1 (Batch (None, 256, 256, 32)      128       \n",
      "_________________________________________________________________\n",
      "max_pooling2d_1 (MaxPooling2 (None, 85, 85, 32)        0         \n",
      "_________________________________________________________________\n",
      "dropout_1 (Dropout)          (None, 85, 85, 32)        0         \n",
      "_________________________________________________________________\n",
      "conv2d_2 (Conv2D)            (None, 85, 85, 64)        18496     \n",
      "_________________________________________________________________\n",
      "activation_2 (Activation)    (None, 85, 85, 64)        0         \n",
      "_________________________________________________________________\n",
      "batch_normalization_2 (Batch (None, 85, 85, 64)        256       \n",
      "_________________________________________________________________\n",
      "conv2d_3 (Conv2D)            (None, 85, 85, 64)        36928     \n",
      "_________________________________________________________________\n",
      "activation_3 (Activation)    (None, 85, 85, 64)        0         \n",
      "_________________________________________________________________\n",
      "batch_normalization_3 (Batch (None, 85, 85, 64)        256       \n",
      "_________________________________________________________________\n",
      "max_pooling2d_2 (MaxPooling2 (None, 42, 42, 64)        0         \n",
      "_________________________________________________________________\n",
      "dropout_2 (Dropout)          (None, 42, 42, 64)        0         \n",
      "_________________________________________________________________\n",
      "conv2d_4 (Conv2D)            (None, 42, 42, 128)       73856     \n",
      "_________________________________________________________________\n",
      "activation_4 (Activation)    (None, 42, 42, 128)       0         \n",
      "_________________________________________________________________\n",
      "batch_normalization_4 (Batch (None, 42, 42, 128)       512       \n",
      "_________________________________________________________________\n",
      "conv2d_5 (Conv2D)            (None, 42, 42, 128)       147584    \n",
      "_________________________________________________________________\n",
      "activation_5 (Activation)    (None, 42, 42, 128)       0         \n",
      "_________________________________________________________________\n",
      "batch_normalization_5 (Batch (None, 42, 42, 128)       512       \n",
      "_________________________________________________________________\n",
      "max_pooling2d_3 (MaxPooling2 (None, 21, 21, 128)       0         \n",
      "_________________________________________________________________\n",
      "dropout_3 (Dropout)          (None, 21, 21, 128)       0         \n",
      "_________________________________________________________________\n",
      "flatten_1 (Flatten)          (None, 56448)             0         \n",
      "_________________________________________________________________\n",
      "dense_1 (Dense)              (None, 1024)              57803776  \n",
      "_________________________________________________________________\n",
      "activation_6 (Activation)    (None, 1024)              0         \n",
      "_________________________________________________________________\n",
      "batch_normalization_6 (Batch (None, 1024)              4096      \n",
      "_________________________________________________________________\n",
      "dropout_4 (Dropout)          (None, 1024)              0         \n",
      "_________________________________________________________________\n",
      "dense_2 (Dense)              (None, 13)                13325     \n",
      "_________________________________________________________________\n",
      "activation_7 (Activation)    (None, 13)                0         \n",
      "=================================================================\n",
      "Total params: 58,100,621\n",
      "Trainable params: 58,097,741\n",
      "Non-trainable params: 2,880\n",
      "_________________________________________________________________\n"
     ]
    }
   ],
   "source": [
    "model.summary()"
   ]
  },
  {
   "cell_type": "code",
   "execution_count": 13,
   "metadata": {},
   "outputs": [
    {
     "name": "stdout",
     "output_type": "stream",
     "text": [
      "[INFO] training network...\n"
     ]
    }
   ],
   "source": [
    "opt = Adam(lr=INIT_LR, decay=INIT_LR / EPOCHS)\n",
    "# distribution\n",
    "model.compile(loss=\"binary_crossentropy\", optimizer=opt,metrics=[\"accuracy\"])\n",
    "# train the network\n",
    "print(\"[INFO] training network...\")"
   ]
  },
  {
   "cell_type": "code",
   "execution_count": 14,
   "metadata": {},
   "outputs": [
    {
     "name": "stdout",
     "output_type": "stream",
     "text": [
      "WARNING:tensorflow:From /usr/local/lib/python3.6/site-packages/tensorflow/python/ops/math_ops.py:3066: to_int32 (from tensorflow.python.ops.math_ops) is deprecated and will be removed in a future version.\n",
      "Instructions for updating:\n",
      "Use tf.cast instead.\n",
      "Epoch 1/25\n",
      "30/30 [==============================] - 287s 10s/step - loss: 0.1922 - acc: 0.9420 - val_loss: 0.3504 - val_acc: 0.9272\n",
      "Epoch 2/25\n",
      "30/30 [==============================] - 340s 11s/step - loss: 0.1350 - acc: 0.9563 - val_loss: 0.1816 - val_acc: 0.9476\n",
      "Epoch 3/25\n",
      "30/30 [==============================] - 327s 11s/step - loss: 0.1140 - acc: 0.9603 - val_loss: 0.1854 - val_acc: 0.9554\n",
      "Epoch 4/25\n",
      "30/30 [==============================] - 273s 9s/step - loss: 0.1078 - acc: 0.9631 - val_loss: 0.4187 - val_acc: 0.9221\n",
      "Epoch 5/25\n",
      "30/30 [==============================] - 294s 10s/step - loss: 0.0898 - acc: 0.9668 - val_loss: 0.2267 - val_acc: 0.9451\n",
      "Epoch 6/25\n",
      "30/30 [==============================] - 287s 10s/step - loss: 0.0674 - acc: 0.9750 - val_loss: 0.3718 - val_acc: 0.9250\n",
      "Epoch 7/25\n",
      "30/30 [==============================] - 266s 9s/step - loss: 0.0693 - acc: 0.9748 - val_loss: 0.3744 - val_acc: 0.9234\n",
      "Epoch 8/25\n",
      "30/30 [==============================] - 284s 9s/step - loss: 0.0763 - acc: 0.9730 - val_loss: 0.2429 - val_acc: 0.9495\n",
      "Epoch 9/25\n",
      "30/30 [==============================] - 279s 9s/step - loss: 0.0696 - acc: 0.9765 - val_loss: 0.3617 - val_acc: 0.9300\n",
      "Epoch 10/25\n",
      "30/30 [==============================] - 261s 9s/step - loss: 0.0540 - acc: 0.9806 - val_loss: 0.1281 - val_acc: 0.9714\n",
      "Epoch 11/25\n",
      "30/30 [==============================] - 262s 9s/step - loss: 0.0660 - acc: 0.9792 - val_loss: 0.1729 - val_acc: 0.9557\n",
      "Epoch 12/25\n",
      "30/30 [==============================] - 264s 9s/step - loss: 0.0504 - acc: 0.9816 - val_loss: 0.1298 - val_acc: 0.9686\n",
      "Epoch 13/25\n",
      "30/30 [==============================] - 264s 9s/step - loss: 0.0418 - acc: 0.9844 - val_loss: 0.1169 - val_acc: 0.9680\n",
      "Epoch 14/25\n",
      "30/30 [==============================] - 265s 9s/step - loss: 0.0464 - acc: 0.9823 - val_loss: 0.1516 - val_acc: 0.9623\n",
      "Epoch 15/25\n",
      "30/30 [==============================] - 265s 9s/step - loss: 0.0485 - acc: 0.9815 - val_loss: 0.5628 - val_acc: 0.9215\n",
      "Epoch 16/25\n",
      "30/30 [==============================] - 270s 9s/step - loss: 0.0448 - acc: 0.9834 - val_loss: 0.2411 - val_acc: 0.9479\n",
      "Epoch 17/25\n",
      "30/30 [==============================] - 265s 9s/step - loss: 0.0445 - acc: 0.9832 - val_loss: 0.3931 - val_acc: 0.9275\n",
      "Epoch 18/25\n",
      "30/30 [==============================] - 272s 9s/step - loss: 0.0434 - acc: 0.9830 - val_loss: 0.1152 - val_acc: 0.9648\n",
      "Epoch 19/25\n",
      "30/30 [==============================] - 271s 9s/step - loss: 0.0317 - acc: 0.9874 - val_loss: 0.0594 - val_acc: 0.9812\n",
      "Epoch 20/25\n",
      "30/30 [==============================] - 290s 10s/step - loss: 0.0366 - acc: 0.9875 - val_loss: 0.3146 - val_acc: 0.9378\n",
      "Epoch 21/25\n",
      "30/30 [==============================] - 271s 9s/step - loss: 0.0328 - acc: 0.9885 - val_loss: 0.6394 - val_acc: 0.9137\n",
      "Epoch 22/25\n",
      "30/30 [==============================] - 274s 9s/step - loss: 0.0373 - acc: 0.9855 - val_loss: 0.2188 - val_acc: 0.9444\n",
      "Epoch 23/25\n",
      "30/30 [==============================] - 299s 10s/step - loss: 0.0340 - acc: 0.9875 - val_loss: 0.1143 - val_acc: 0.9733\n",
      "Epoch 24/25\n",
      "30/30 [==============================] - 279s 9s/step - loss: 0.0264 - acc: 0.9902 - val_loss: 0.8763 - val_acc: 0.9077\n",
      "Epoch 25/25\n",
      "30/30 [==============================] - 269s 9s/step - loss: 0.0259 - acc: 0.9900 - val_loss: 0.2539 - val_acc: 0.9507\n"
     ]
    }
   ],
   "source": [
    "history = model.fit_generator(\n",
    "    aug.flow(x_train, y_train, batch_size=BS),\n",
    "    validation_data=(x_test, y_test),\n",
    "    steps_per_epoch=len(x_train) // BS,\n",
    "    epochs=EPOCHS, verbose=1\n",
    "    )"
   ]
  },
  {
   "cell_type": "code",
   "execution_count": 15,
   "metadata": {},
   "outputs": [
    {
     "data": {
      "image/png": "[encoded data removed]",
      "text/plain": [
       "<Figure size 432x288 with 1 Axes>"
      ]
     },
     "metadata": {
      "needs_background": "light"
     },
     "output_type": "display_data"
    },
    {
     "data": {
      "image/png": "[encoded data removed]",
      "text/plain": [
       "<Figure size 432x288 with 1 Axes>"
      ]
     },
     "metadata": {
      "needs_background": "light"
     },
     "output_type": "display_data"
    }
   ],
   "source": [
    "acc = history.history['acc']\n",
    "val_acc = history.history['val_acc']\n",
    "loss = history.history['loss']\n",
    "val_loss = history.history['val_loss']\n",
    "epochs = range(1, len(acc) + 1)\n",
    "#Train and validation accuracy\n",
    "plt.plot(epochs, acc, 'b', label='Training accurarcy')\n",
    "plt.plot(epochs, val_acc, 'r', label='Validation accurarcy')\n",
    "plt.title('Training and Validation accurarcy')\n",
    "plt.legend()\n",
    "\n",
    "plt.figure()\n",
    "#Train and validation loss\n",
    "plt.plot(epochs, loss, 'b', label='Training loss')\n",
    "plt.plot(epochs, val_loss, 'r', label='Validation loss')\n",
    "plt.title('Training and Validation loss')\n",
    "plt.legend()\n",
    "plt.show()"
   ]
  },
  {
   "cell_type": "code",
   "execution_count": 16,
   "metadata": {},
   "outputs": [
    {
     "name": "stdout",
     "output_type": "stream",
     "text": [
      "[INFO] Calculating model accuracy\n",
      "245/245 [==============================] - 33s 134ms/step\n",
      "Test Accuracy: 95.07064276812028\n"
     ]
    }
   ],
   "source": [
    "print(\"[INFO] Calculating model accuracy\")\n",
    "scores = model.evaluate(x_test, y_test)\n",
    "print(f\"Test Accuracy: {scores[1]*100}\")"
   ]
  },
  {
   "cell_type": "code",
   "execution_count": 17,
   "metadata": {},
   "outputs": [
    {
     "name": "stdout",
     "output_type": "stream",
     "text": [
      "[INFO] Saving model...\n"
     ]
    }
   ],
   "source": [
    "# save the model to disk\n",
    "print(\"[INFO] Saving model...\")\n",
    "pickle.dump(model,open('cnn_model.pkl', 'wb'))"
   ]
  },
  {
   "cell_type": "code",
   "execution_count": 6,
   "metadata": {},
   "outputs": [
    {
     "name": "stdout",
     "output_type": "stream",
     "text": [
      "Error : name 'default_image_size' is not defined\n"
     ]
    }
   ],
   "source": [
    "def convert_image(image_data):\n",
    "    image_array=convert_image_to_array(image_data)\n",
    "    return np.expand_dims(image_array, axis=0)\n",
    "\n",
    "image_data=\"/root/Desktop/plants/barley_yellow_disease/3.jpg\"\n",
    "image_array=convert_image(image_data)"
   ]
  },
  {
   "cell_type": "code",
   "execution_count": null,
   "metadata": {},
   "outputs": [],
   "source": [
    "model_file=\"/root/Desktop/cnn_model.pkl\"\n",
    "saved_classifier_model=pickle.load(open(model_file,'rb'))\n",
    "prediction=saved_classifier_model.predict(image_array)\n",
    "label_binarizer=pickle.load(open(\"/root/Desktop/label_transform.pkl\",\"rb\"))\n",
    "\n"
   ]
  },
  {
   "cell_type": "code",
   "execution_count": 23,
   "metadata": {},
   "outputs": [],
   "source": [
    "x=label_binarizer.inverse_transform(prediction)[0]"
   ]
  },
  {
   "cell_type": "code",
   "execution_count": 24,
   "metadata": {},
   "outputs": [
    {
     "name": "stdout",
     "output_type": "stream",
     "text": [
      "barley_yellow_disease\n"
     ]
    }
   ],
   "source": [
    "print(x)"
   ]
  },
  {
   "cell_type": "code",
   "execution_count": null,
   "metadata": {},
   "outputs": [],
   "source": []
  }
 ],
 "metadata": {
  "kernelspec": {
   "display_name": "Python 3",
   "language": "python",
   "name": "python3"
  },
  "language_info": {
   "codemirror_mode": {
    "name": "ipython",
    "version": 3
   },
   "file_extension": ".py",
   "mimetype": "text/x-python",
   "name": "python",
   "nbconvert_exporter": "python",
   "pygments_lexer": "ipython3",
   "version": "3.6.3"
  }
 },
 "nbformat": 4,
 "nbformat_minor": 2
}
